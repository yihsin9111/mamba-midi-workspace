{
 "cells": [
  {
   "cell_type": "code",
   "execution_count": 1,
   "metadata": {},
   "outputs": [],
   "source": [
    "device = 'cuda:0'\n",
    "mode = 'simba_electronic'\n",
    "# mode = 'incontext_simba'\n",
    "import os\n",
    "os.environ['CUDA_VISIBLE_DEVICES']='0'"
   ]
  },
  {
   "cell_type": "code",
   "execution_count": 7,
   "metadata": {},
   "outputs": [],
   "source": [
    "import numpy as np\n",
    "a = np.load('/mnt/gestalt/home/lonian/datasets/MusicCaps/dac_token/_-kssA-FOzU.npy')"
   ]
  },
  {
   "cell_type": "code",
   "execution_count": 8,
   "metadata": {},
   "outputs": [
    {
     "data": {
      "text/plain": [
       "(9, 862)"
      ]
     },
     "execution_count": 8,
     "metadata": {},
     "output_type": "execute_result"
    }
   ],
   "source": [
    "a.shape"
   ]
  },
  {
   "cell_type": "code",
   "execution_count": 2,
   "metadata": {},
   "outputs": [
    {
     "name": "stderr",
     "output_type": "stream",
     "text": [
      "/home/lonian/anaconda3/envs/mamba_hf/lib/python3.12/site-packages/tqdm/auto.py:21: TqdmWarning: IProgress not found. Please update jupyter and ipywidgets. See https://ipywidgets.readthedocs.io/en/stable/user_install.html\n",
      "  from .autonotebook import tqdm as notebook_tqdm\n"
     ]
    }
   ],
   "source": [
    "import datasets\n",
    "datasets_200 = datasets.load_from_disk('/mnt/gestalt/home/lonian/datasets/MusicCaps/eval_sub_200')"
   ]
  },
  {
   "cell_type": "code",
   "execution_count": 7,
   "metadata": {},
   "outputs": [
    {
     "data": {
      "text/plain": [
       "13"
      ]
     },
     "execution_count": 7,
     "metadata": {},
     "output_type": "execute_result"
    }
   ],
   "source": []
  },
  {
   "cell_type": "code",
   "execution_count": 25,
   "metadata": {},
   "outputs": [
    {
     "data": {
      "text/plain": [
       "{'ytid': 'MY0PsDE3xHs',\n",
       " 'start_s': 30,\n",
       " 'end_s': 40,\n",
       " 'audioset_positive_labels': '/m/015lz1,/m/04rlf,/m/05zppz,/m/064t9,/t/dd00003',\n",
       " 'aspect_list': \"['female singer', 'medium fast tempo', 'emotional', 'contemporary pop', 'upbeat', 'groovy rhythm', 'dance music', 'dance pop', 'club music', 'electro pop', 'synth pop', 'ambient', 'electronic music', 'synthesiser articulation', 'digital drumming', 'keyboard arrangement', 'electric guitar riff', 'vocal backup']\",\n",
       " 'caption': 'A female singer sings soft pop songs. The tempo is medium fast with electronically arranged music, electric guitar harmony, digital drum beats, and melodious vocal backup. The song is simple, soft, emotional, upbeat, catchy, with a dance groove. This song is an Electro Pop song.',\n",
       " 'author_id': 7,\n",
       " 'is_balanced_subset': True,\n",
       " 'is_audioset_eval': True}"
      ]
     },
     "execution_count": 25,
     "metadata": {},
     "output_type": "execute_result"
    }
   ],
   "source": [
    "datasets_200[datasets_200['ytid'].index('MY0PsDE3xHs')]"
   ]
  },
  {
   "cell_type": "code",
   "execution_count": 6,
   "metadata": {},
   "outputs": [
    {
     "name": "stdout",
     "output_type": "stream",
     "text": [
      "{'ytid': ['-bgHkxwoliw', '-kpR93atgd8', '-wymN80CiYU', '07xGXxIHOL4', '0PMFAO4TIU4', '0TV9zvfwFhs', '0fiOM---7QI', '0i8VM_EooCs', '0jFQ21A6GRA', '1ACn3u5UnBw'], 'start_s': tensor([ 30,  30, 130, 110,  30,  30, 140,  30,  30,  30]), 'end_s': tensor([ 40,  40, 140, 120,  40,  40, 150,  40,  40,  40]), 'audioset_positive_labels': ['/m/04rlf,/m/04wptg', '/m/015y_n,/m/0164x2,/m/04rlf,/m/06cqb', '/m/04rlf,/t/dd00031', '/m/04rlf,/m/04wptg', '/m/03_d0,/m/04rlf', '/m/04rlf,/t/dd00003,/t/dd00006', '/m/04rlf,/m/06j64v', '/m/02lkt,/m/04rlf,/m/07gxw', '/m/04rlf,/m/06j64v', '/m/04rlf,/t/dd00003'], 'aspect_list': [\"['pop', 'digital drums', 'e-guitar', 'keyboard melodies', 'male voice singing', 'higher register', 'bass', 'uptempo', 'positive atmosphere']\", \"['ska', 'saxophone', 'e-guitar', 'acoustic drums', 'percussion', 'keys', 'e-bass', 'fast tempo', 'uplifting energy']\", \"['male singer', 'backup singers', 'guitar lead', 'medium tempo', 'steady drumming rhythm', 'string section playing rhythmically', 'cymbals crashing', 'slick percussion clicks', 'strong bass line', 'keyboard harmony', 'modern pop hits', 'emotional', 'romantic', 'together for ever', 'i’m sorry', 'forgive me', 'love song', 'poor audio quality', 'heartfelt', 'vocal harmony', 'clapping percussions']\", \"['male singer', 'slow tempo', 'romantic piano', 'ambient music', 'saxophone harmony', 'steady drumming', 'groovy bass line', 'r&b', 'soul', 'blues', 'jazz', 'complex harmony', 'syncopated', 'pleasant', 'romantic', 'emotional', 'sentimental', 'love song', 'wedding song', 'proposal song']\", \"['new ethiopian music', 'digital drums', 'male voice sample', 'accordion-like sound', 'e-bass', 'medium tempo', 'uplifting energy']\", \"['male voice', 'male backing vocals', 'r&b genre', 'electric piano', 'drums', 'bass guitar', 'tubular bell']\", \"['traditional south asian music', 'old desi music', 'fast paced rhythmic singing', 'clapping hands', 'live performance', 'tabla playing', 'upbeat', 'vibrant']\", \"['finnish techno pop', 'polka', 'live performance', 'male vocal', 'female vocal', 'yodel-like singing', 'keyboard', 'bass', 'electronic drums', 'european', 'playful', 'vibrant', 'danceable', 'medium tempo']\", \"['gospel music', 'christian', 'acoustic', 'male vocal', 'melodic singing', 'acoustic guitar', 'simple tune', 'religious', 'deep', 'passionate']\", \"['soul/r&b/gospel', 'organ', 'male voice singing', 'amateur recording', 'slow tempo']\"], 'caption': ['Digital drums are playing a four on the floor rhythm with a kick on every beat along with a bassline and a keyboard sound playing short rhythmic chords and a e-guitar playing a simple melody along. A male voice is singing in a higher key. This song may be playing at a folkfest.', 'An acoustic drum is playing along with a bassline giving the song a ska/reggae feeling. The e-guitar strumming on the offbeat supports that feeling while a keyboard is playing a bell-sounding chord. Bongos are setting little accents at the end. A saxophone is playing a melody along. This song may be playing at a festival outside while the sun is shining.', 'A male singer sings this beautiful melody with backup singers in vocal harmony. The song is medium tempo with a percussive string section, strong bass line, guitar lead, steady drumming rhythm , keyboard accompaniment and various percussion clicks. The song is emotional and romantic. The song is of poor audio quality.', 'A male vocalist sings this soft love song. The tempo is slow with a romantic piano accompaniment, groovy bass line, steady drumming and ambient saxophone harmony. The song is a romantic, emotional, mellow, sentimental, proposal or wedding song. This song is a R&B/Soul song.', 'A digital drum is playing a simple beat along with some percussive sounds. A bass is playing the same melody as the accordion-like instrument. A male voice is shouting little phrases. This song may be playing a country having a traditional dance.', 'The R&B music features a male voice singing and being backed by similar male voices from time to time. An electric piano accompanies the singer with long-note chords. The drums play a light rhythm and dictate the flow of the music. Towards the end of the music excerpt a bass guitar starts to play. In the beginning of the passage one can hear a tubular bell being struck once. This sound is very similar to a church bell.', 'This is a traditional, cultural South Asian song. It is upbeat, vibrant, cheerful. The lead singer sings in a fast paced and rhythmic way, connecting many words within a short span of musical time. The rest of the performers are clapping their hands, playing the tabla. This is a live performance.', \"This is a finnish techno pop piece with polka influences. There is a female vocalist in the lead singing rapidly in a manner that resembles yodeling. A male vocalist occasionally joins her at a lower pitch while singing the melody. The melodic background consists of a keyboard tune and a simple bass line. The rhythmic background is provided by an electronic disco drum beat. The atmosphere is playful and danceable. This piece could be used in the background of a comedic social media content. It could also be played at children's events.\", 'This is a Christian gospel music piece. There is a male vocalist singing melodically at the forefront. The simple tune is being played by a mellow acoustic guitar. The piece has a deep and passionate atmosphere. It could be used in Christian religious events and gatherings. It could also be used in the background of Christian social media content.', 'An organ is playing chords and melodies while a male voice is singing soulfully with a lot of reverb and delay in his voice. This is an amateur recording. This song may be playing proposing to someone.'], 'author_id': tensor([6, 6, 1, 7, 6, 2, 3, 9, 9, 6]), 'is_balanced_subset': tensor([True, True, True, True, True, True, True, True, True, True]), 'is_audioset_eval': tensor([True, True, True, True, True, True, True, True, True, True])}\n"
     ]
    }
   ],
   "source": [
    "for i in loader:\n",
    "    # if os.path.isfile(os.path.join(save_path, '{}.npy'.format(i['ytid'][0]))):\n",
    "    #     continue\n",
    "    text_prompts = i['caption']\n",
    "    print(i)\n",
    "    break"
   ]
  },
  {
   "cell_type": "code",
   "execution_count": 6,
   "metadata": {},
   "outputs": [
    {
     "name": "stdout",
     "output_type": "stream",
     "text": [
      "torch.Size([1, 8, 2588]) torch.Size([1, 64, 2588])\n",
      "torch.Size([1, 72, 2588])\n",
      "tensor([[[True, True, True,  ..., True, True, True],\n",
      "         [True, True, True,  ..., True, True, True],\n",
      "         [True, True, True,  ..., True, True, True],\n",
      "         ...,\n",
      "         [True, True, True,  ..., True, True, True],\n",
      "         [True, True, True,  ..., True, True, True],\n",
      "         [True, True, True,  ..., True, True, True]]])\n"
     ]
    }
   ],
   "source": [
    "print(coarse_token.shape, fine_noise.shape)\n",
    "d = torch.cat( (coarse_token, fine_noise) , 1)\n",
    "print(d.shape)\n",
    "print(d[:, :8, :]==coarse_token)"
   ]
  },
  {
   "cell_type": "code",
   "execution_count": 2,
   "metadata": {},
   "outputs": [
    {
     "name": "stderr",
     "output_type": "stream",
     "text": [
      "/home/lonian/anaconda3/envs/mamba_hf/lib/python3.12/site-packages/tqdm/auto.py:21: TqdmWarning: IProgress not found. Please update jupyter and ipywidgets. See https://ipywidgets.readthedocs.io/en/stable/user_install.html\n",
      "  from .autonotebook import tqdm as notebook_tqdm\n",
      "You are using the default legacy behaviour of the <class 'transformers.models.t5.tokenization_t5.T5Tokenizer'>. This is expected, and simply means that the `legacy` (previous) behavior will be used so nothing changes for you. If you want to use the new behaviour, set `legacy=False`. This should only be set if you understand what it means, and thoroughly read the reason why this was added as explained in https://github.com/huggingface/transformers/pull/24565\n",
      "Special tokens have been added in the vocabulary, make sure the associated word embeddings are fine-tuned or trained.\n",
      "2025-02-13 12:22:50,299 INFO: Is incontext: True \n",
      "2025-02-13 12:22:50,301 INFO: Attention layers: [] \n",
      "2025-02-13 12:22:50,302 INFO: Is pure mamba: False \n",
      "2025-02-13 12:22:50,303 INFO: /mnt/gestalt/home/lonian/mamba/model/ckpts/simba_9_incontext/lightning_logs/version_4/checkpoints/epoch=150-step=64500.ckpt \n"
     ]
    }
   ],
   "source": [
    "import sys\n",
    "# pytorch\n",
    "import torch\n",
    "from torch.utils.data import Dataset, DataLoader\n",
    "from torch import nn\n",
    "import torch.nn.functional as F\n",
    "from pl_model import Text_Mmamba_pl\n",
    "# import lightning as L\n",
    "# from lightning.pytorch.callbacks.early_stopping import EarlyStopping\n",
    "# others\n",
    "from glob import glob\n",
    "import numpy as np\n",
    "# import os\n",
    "import json\n",
    "from tqdm import tqdm\n",
    "import math\n",
    "# import argparse\n",
    "from transformers import T5EncoderModel, T5Tokenizer\n",
    "# from text_simba import MB_Dataset\n",
    "import warnings\n",
    "warnings.filterwarnings(\"ignore\", category=FutureWarning)\n",
    "os.environ[\"TOKENIZERS_PARALLELISM\"] = \"false\"\n",
    "# torch.multiprocessing.set_start_method('spawn')\n",
    "from utils import *\n",
    "\n",
    "# mode = 'incontext_simba'\n",
    "# print(mode)\n",
    "\n",
    "def create_logger(logger_file_path, name=None):\n",
    "    import time\n",
    "    import logging\n",
    "    \n",
    "    if not os.path.exists(logger_file_path):\n",
    "        os.makedirs(logger_file_path)\n",
    "    if name is not None:\n",
    "        log_name = '{}.log'.format(time.strftime('%Y-%m-%d-%H-%M'))\n",
    "    else:\n",
    "        log_name = '{}.log'.format(name)\n",
    "    final_log_file = os.path.join(logger_file_path, log_name)\n",
    "\n",
    "    logger = logging.getLogger()  # 设定日志对象\n",
    "    logger.setLevel(logging.INFO)  # 设定日志等级\n",
    "\n",
    "    file_handler = logging.FileHandler(final_log_file)  # 文件输出\n",
    "    console_handler = logging.StreamHandler()  # 控制台输出\n",
    "\n",
    "    # 输出格式\n",
    "    formatter = logging.Formatter(\n",
    "        \"%(asctime)s %(levelname)s: %(message)s \"\n",
    "    )\n",
    "\n",
    "    file_handler.setFormatter(formatter)  # 设置文件输出格式\n",
    "    console_handler.setFormatter(formatter)  # 设施控制台输出格式\n",
    "    logger.addHandler(file_handler)\n",
    "    logger.addHandler(console_handler)\n",
    "\n",
    "    return logger\n",
    "\n",
    "\n",
    "model_path='/mnt/gestalt/home/lonian/mamba/model/ckpts/simba_9_incontext/lightning_logs/version_4/checkpoints/epoch=150-step=64500.ckpt'\n",
    "folder_name='description'\n",
    "subfolder_name='prefix_simba_9'\n",
    "\n",
    "config_path = model_path[::-1].split('/', 4)[-1][::-1]+'/config.json'\n",
    "with open(config_path) as f:\n",
    "    config = json.load(f)\n",
    "model = Text_Mmamba_pl.load_from_checkpoint(model_path, config)\n",
    "model.eval()\n",
    "model.freeze()\n",
    "# folder_name = 'musicgen_baseline'\n",
    "save_path = f'/mnt/gestalt/home/lonian/mamba/exp_results/{folder_name}/{subfolder_name}/dac_token'\n",
    "os.makedirs (save_path, exist_ok=True)\n",
    "\n",
    "logger = create_logger(f'/mnt/gestalt/home/lonian/mamba/exp_results/{folder_name}/{subfolder_name}')\n",
    "\n",
    "logger.info(f'Is incontext: {config['model']['is_incontext']}')\n",
    "logger.info(f'Attention layers: {config['model']['self_atten_layers']}')\n",
    "logger.info(f'Is pure mamba: {config['model']['is_pure_mamba']}')\n",
    "logger.info(model_path)\n",
    "\n",
    "# model = Text_Mmamba_pl.load_from_checkpoint(\"/mnt/gestalt/home/lonian/mamba/model/ckpts/simba_9_incontext/lightning_logs/version_4/checkpoints/epoch=150-step=64500.ckpt\", config)\n",
    "\n",
    "# model.eval()\n",
    "# model.freeze()\n",
    "# folder_name = 'description'\n",
    "# save_path = f'/mnt/gestalt/home/lonian/mamba/exp_results/{folder_name}/{mode}/dac_token'\n",
    "# os.makedirs (save_path, exist_ok=True)\n",
    "\n",
    "# logger = create_logger(f'/mnt/gestalt/home/lonian/mamba/exp_results/{folder_name}/{mode}', name=mode)\n",
    "\n",
    "# logger.info(f'Is incontext: {config['model']['is_incontext']}')\n",
    "# logger.info(f'Attention layers: {config['model']['self_atten_layers']}')\n",
    "# logger.info(f'Is pure mamba: {config['model']['is_pure_mamba']}')\n",
    "# # \"self_atten_layers\": [],\n",
    "# #         \"is_incontext\": true,\n",
    "# #         \"is_pure_mamba\": false"
   ]
  },
  {
   "cell_type": "code",
   "execution_count": 3,
   "metadata": {},
   "outputs": [
    {
     "name": "stdout",
     "output_type": "stream",
     "text": [
      "(6, 9, 862)\n"
     ]
    }
   ],
   "source": [
    "L = 2588//3\n",
    "with torch.autocast(device_type=\"cuda\", dtype=torch.float32):\n",
    "    with torch.no_grad():\n",
    "        device = 'cuda'\n",
    "        description = ['A vibrant and catchy melody drives this upbeat pop track, featuring smooth vocals layered over a backdrop of rhythmic claps, bright synths, and a steady drumbeat. The song exudes positivity and is perfect for a sunny day or a lively party.', \n",
    "                    'This mellow jazz piece blends a walking bassline with intricate piano improvisations and the soft hum of a saxophone solo. Its laid-back tempo and smooth swing rhythm create a cozy, sophisticated atmosphere ideal for a relaxed evening.', \n",
    "                    'A high-energy EDM track with thumping bass drops, euphoric synth leads, and an infectious rhythm. The buildup and release of tension keep the crowd on their feet, making it the ultimate choice for a late-night dance party.', \n",
    "                    'An explosive rock anthem powered by crunchy electric guitar riffs, a pulsating bassline, and dynamic drum fills. The raw, emotive vocals bring energy and intensity, making it an ideal soundtrack for a road trip or an adrenaline-pumping workout.', \n",
    "                    'A delicate and expressive piano solo, weaving a gentle melody with flowing arpeggios. The piece captures a contemplative mood, evoking imagery of a serene landscape at sunrise, perfect for moments of quiet reflection.',\n",
    "                    'An experimental electronic piece blending glitchy beats, atmospheric textures, and robotic vocal effects. The track evolves through intricate soundscapes and pulsating basslines, creating a futuristic and immersive sound journey.']\n",
    "        \n",
    "        # description = ['A rhythmic electronic track with steady beats, shimmering synths, and a deep, pulsing bassline, creating an immersive, futuristic vibe.',\n",
    "        #                'A dreamy electronic composition filled with soft pads, airy melodies, and a gentle, flowing rhythm that feels ethereal and calming.',\n",
    "        #                'A high-energy electronic song featuring fast beats, glitchy effects, and bright synth leads that build an exciting, dynamic mood.',\n",
    "        #                'A minimalist electronic piece with repetitive beats, subtle textures, and a hypnotic, looping melody that feels introspective and atmospheric.',\n",
    "        #                'A vibrant electronic tune with layered arpeggios, sparkling synths, and a bouncy bass that creates an uplifting and playful sound.']\n",
    "        \n",
    "        # print(len(i['ytid']))\n",
    "        prompt_seq = model(description=description, length=L, g_scale=3)\n",
    "        print(prompt_seq.shape)\n",
    "\n",
    "        for b in range(len(description)//2):\n",
    "            gen_id = len(glob(f'{save_path}/*.npy')) + 1\n",
    "            np.save(os.path.join(save_path, '{}.npy'.format(f'{gen_id}_{description[b].replace(' ', '_')}')), prompt_seq[b, :, :L])"
   ]
  },
  {
   "cell_type": "code",
   "execution_count": 5,
   "metadata": {},
   "outputs": [
    {
     "data": {
      "text/plain": [
       "1"
      ]
     },
     "execution_count": 5,
     "metadata": {},
     "output_type": "execute_result"
    }
   ],
   "source": [
    "model.config['model']['codec_layer']"
   ]
  },
  {
   "cell_type": "code",
   "execution_count": 4,
   "metadata": {},
   "outputs": [
    {
     "data": {
      "text/plain": [
       "8"
      ]
     },
     "execution_count": 4,
     "metadata": {},
     "output_type": "execute_result"
    }
   ],
   "source": [
    "len(description)"
   ]
  },
  {
   "cell_type": "code",
   "execution_count": 5,
   "metadata": {},
   "outputs": [
    {
     "data": {
      "text/plain": [
       "['Pop music',\n",
       " 'Jazz',\n",
       " 'Electronic Dance Music',\n",
       " 'Rock music with heavy metal style',\n",
       " '',\n",
       " '',\n",
       " '',\n",
       " '']"
      ]
     },
     "execution_count": 5,
     "metadata": {},
     "output_type": "execute_result"
    }
   ],
   "source": [
    "description"
   ]
  },
  {
   "cell_type": "code",
   "execution_count": null,
   "metadata": {},
   "outputs": [],
   "source": []
  }
 ],
 "metadata": {
  "kernelspec": {
   "display_name": "mamba_hf",
   "language": "python",
   "name": "python3"
  },
  "language_info": {
   "codemirror_mode": {
    "name": "ipython",
    "version": 3
   },
   "file_extension": ".py",
   "mimetype": "text/x-python",
   "name": "python",
   "nbconvert_exporter": "python",
   "pygments_lexer": "ipython3",
   "version": "3.12.3"
  }
 },
 "nbformat": 4,
 "nbformat_minor": 2
}
